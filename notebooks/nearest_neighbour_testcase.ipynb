{
 "cells": [
  {
   "cell_type": "code",
   "execution_count": 1,
   "metadata": {},
   "outputs": [],
   "source": [
    "import os\n",
    "from IPython.display import display\n",
    "\n",
    "# ROOT contais the project directory \n",
    "os.chdir(os.path.dirname(os.getcwd()))"
   ]
  },
  {
   "cell_type": "code",
   "execution_count": 8,
   "metadata": {},
   "outputs": [],
   "source": [
    "from src.plots import plot_color_bar\n",
    "from src.Fundus import Fundus\n",
    "from sklearn.cluster import AgglomerativeClustering\n",
    "import numpy as np\n",
    "from tqdm import tqdm\n",
    "import torch"
   ]
  },
  {
   "cell_type": "code",
   "execution_count": 3,
   "metadata": {},
   "outputs": [],
   "source": [
    "def cluster_pixels(fundus, n):\n",
    "    pal = fundus.palette\n",
    "    \n",
    "    cluster = AgglomerativeClustering(n_clusters=n, affinity='euclidean', linkage='ward')\n",
    "    clustered = cluster.fit_predict(pal)\n",
    "\n",
    "    a = np.zeros(fundus.pixels.shape, dtype=np.uint8)\n",
    "    for c in tqdm(np.unique(clustered)):\n",
    "        a+=fundus.mask(pal[clustered == c], inverse=True, replacement=pal[clustered == c][0])\n",
    "        \n",
    "    return Fundus(a, w=fundus.w, h=fundus.h)"
   ]
  },
  {
   "cell_type": "code",
   "execution_count": 6,
   "metadata": {},
   "outputs": [],
   "source": [
    "def nearest_neighbour_mean(x):\n",
    "\n",
    "    def cluster(x):\n",
    "        out = []\n",
    "        # Iterate each row\n",
    "        for i in range(len(x)):\n",
    "            if i-1 < 0:\n",
    "                out.append(torch.mean(x[i:i+2], dim=0))\n",
    "\n",
    "            elif i+1 < len(x):\n",
    "                frame = torch.stack([x[i-1], x[i+1]]).to(\"cuda\")\n",
    "                diffs = torch.stack([ abs(x[i]-x[i-1]), abs(x[i]-x[i+1])])\n",
    "                index = torch.min(diffs, dim=0).indices[:,0]\n",
    "                minvl = torch.stack([frame[j,i,:] for i,j in enumerate(index)])\n",
    "                out.append(torch.mean(torch.stack([minvl, x[i]]), dim=0))\n",
    "\n",
    "            else:\n",
    "                out.append(torch.mean(x[i-1:i+1], dim=0))\n",
    "        # Stack \n",
    "        out = torch.stack(out, dim=0)\n",
    "        return out.type(torch.int16)\n",
    "    \n",
    "    # Run clustering on data\n",
    "    meaned_v = cluster(x)\n",
    "    meaned_h = cluster(torch.transpose(x, 0, 1))\n",
    "    \n",
    "    # Differrence between original and meaned\n",
    "    diff_v = x - meaned_v\n",
    "    diff_h = x - meaned_h\n",
    "    \n",
    "    # Get clossest (nearest neighbour)\n",
    "    nnm = torch.where(abs(diff_h[:,:,0]) < abs(diff_v[:,:,0]), meaned_v, meaned_h)\n",
    "    \n",
    "    return nnm"
   ]
  },
  {
   "cell_type": "code",
   "execution_count": 4,
   "metadata": {},
   "outputs": [
    {
     "data": {
      "text/plain": [
       "34070"
      ]
     },
     "execution_count": 4,
     "metadata": {},
     "output_type": "execute_result"
    }
   ],
   "source": [
    "original = Fundus(\"data/noma/male_extra_0.png\")\n",
    "len(original.palette)"
   ]
  },
  {
   "cell_type": "code",
   "execution_count": 17,
   "metadata": {},
   "outputs": [],
   "source": [
    "originaltensor = torch.tensor(np.asarray(original.im)).to(\"cuda\")"
   ]
  },
  {
   "cell_type": "code",
   "execution_count": null,
   "metadata": {},
   "outputs": [],
   "source": [
    "nnm = nearest_neighbour_mean(originaltensor.type(torch.float16))"
   ]
  },
  {
   "cell_type": "code",
   "execution_count": null,
   "metadata": {},
   "outputs": [],
   "source": [
    "modified = cluster_pixels(original, len(original.palette)//2)\n",
    "modified2 = cluster_pixels(modified, len(modified.palette)//2)\n",
    "modified3 = cluster_pixels(modified2, len(modified2.palette)//2)"
   ]
  },
  {
   "cell_type": "code",
   "execution_count": null,
   "metadata": {},
   "outputs": [],
   "source": [
    "veinsubset =  Fundus(modified2.im.crop((550, 550, 600, 600)))\n",
    "veinsubset.im"
   ]
  },
  {
   "cell_type": "code",
   "execution_count": null,
   "metadata": {},
   "outputs": [],
   "source": [
    "#colors = sorted(veinsubset.palette, key=lambda x: x[1])\n",
    "colors = np.sort(veinsubset.palette, axis=0)[:120]\n",
    "plot_color_bar(colors)"
   ]
  },
  {
   "cell_type": "code",
   "execution_count": null,
   "metadata": {},
   "outputs": [],
   "source": [
    "veinsubset.mask(colors, inplace=False)\n",
    "Fundus(modveinsubset, w=veinsubset.w, h=veinsubset.h).im"
   ]
  },
  {
   "cell_type": "code",
   "execution_count": null,
   "metadata": {},
   "outputs": [],
   "source": [
    "simp_vein = modified2.mask(colors=colors, inplace=False)\n",
    "Fundus(simp_vein, w=original.w, h=original.h).im"
   ]
  },
  {
   "cell_type": "code",
   "execution_count": null,
   "metadata": {},
   "outputs": [],
   "source": [
    "def nearest_neighbour_mean(x):\n",
    "\n",
    "    def cluster(x):\n",
    "        out = []\n",
    "        # Iterate each row\n",
    "        for i in range(len(x)):\n",
    "            if i-1 < 0:\n",
    "                out.append(torch.mean(x[i:i+2], dim=0))\n",
    "\n",
    "            elif i+1 < len(x):\n",
    "                frame = torch.stack([x[i-1], x[i+1]]).to(\"cuda\")\n",
    "                diffs = torch.stack([ abs(x[i]-x[i-1]), abs(x[i]-x[i+1])])\n",
    "                index = torch.min(diffs, dim=0).indices[:,0]\n",
    "                minvl = torch.stack([frame[j,i,:] for i,j in enumerate(index)])\n",
    "                out.append(torch.mean(torch.stack([minvl, x[i]]), dim=0))\n",
    "\n",
    "            else:\n",
    "                out.append(torch.mean(x[i-1:i+1], dim=0))\n",
    "        # Stack \n",
    "        out = torch.stack(out, dim=0)\n",
    "        return out.type(torch.int16)\n",
    "    \n",
    "    # Run clustering on data\n",
    "    meaned_v = cluster(x)\n",
    "    meaned_h = cluster(torch.transpose(x, 0, 1))\n",
    "    \n",
    "    # Differrence between original and meaned\n",
    "    diff_v = x - meaned_v\n",
    "    diff_h = x - meaned_h\n",
    "    \n",
    "    # Get clossest (nearest neighbour)\n",
    "    nnm = torch.where(abs(diff_h[:,:,0]) < abs(diff_v[:,:,0]), meaned_v, meaned_h)\n",
    "    \n",
    "    return nnm"
   ]
  },
  {
   "cell_type": "code",
   "execution_count": null,
   "metadata": {},
   "outputs": [],
   "source": [
    "arr = np.asarray(original.im)\n",
    "arr = torch.tensor(arr).to(\"cuda\").type(torch.float32)"
   ]
  },
  {
   "cell_type": "code",
   "execution_count": null,
   "metadata": {},
   "outputs": [],
   "source": [
    "nnm = nearest_neighbour_mean(arr)"
   ]
  },
  {
   "cell_type": "code",
   "execution_count": null,
   "metadata": {},
   "outputs": [],
   "source": [
    "mod = Image.fromarray(nnm.to(\"cpu\").numpy().astype(np.uint8))\n",
    "mod = Fundus(mod)"
   ]
  },
  {
   "cell_type": "code",
   "execution_count": null,
   "metadata": {},
   "outputs": [],
   "source": [
    "len(mod._get_palette())"
   ]
  },
  {
   "cell_type": "code",
   "execution_count": null,
   "metadata": {},
   "outputs": [],
   "source": [
    "mod.im"
   ]
  },
  {
   "cell_type": "code",
   "execution_count": null,
   "metadata": {},
   "outputs": [],
   "source": []
  }
 ],
 "metadata": {
  "kernelspec": {
   "display_name": "Python 3",
   "language": "python",
   "name": "python3"
  },
  "language_info": {
   "codemirror_mode": {
    "name": "ipython",
    "version": 3
   },
   "file_extension": ".py",
   "mimetype": "text/x-python",
   "name": "python",
   "nbconvert_exporter": "python",
   "pygments_lexer": "ipython3",
   "version": "3.7.7"
  }
 },
 "nbformat": 4,
 "nbformat_minor": 4
}
