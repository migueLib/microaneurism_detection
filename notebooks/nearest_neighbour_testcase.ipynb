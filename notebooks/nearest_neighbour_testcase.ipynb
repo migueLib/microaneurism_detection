{
 "cells": [
  {
   "cell_type": "code",
   "execution_count": null,
   "metadata": {},
   "outputs": [],
   "source": [
    "import os\n",
    "from IPython.display import display\n",
    "\n",
    "# ROOT contais the project directory \n",
    "os.chdir(os.path.dirname(os.getcwd()))"
   ]
  },
  {
   "cell_type": "code",
   "execution_count": null,
   "metadata": {},
   "outputs": [],
   "source": [
    "from src.plots import plot_color_bar\n",
    "from src.Fundus import Fundus\n",
    "from src.nearest_neighbor_mean import nearest_neighbour_mean as nnm\n",
    "from sklearn.cluster import AgglomerativeClustering\n",
    "import numpy as np\n",
    "from tqdm import tqdm\n",
    "import torch\n",
    "\n",
    "import PIL\n",
    "from PIL import Image"
   ]
  },
  {
   "cell_type": "code",
   "execution_count": null,
   "metadata": {},
   "outputs": [],
   "source": [
    "original = Fundus(\"data/noma/female_rank_0.png\")\n",
    "print(len(original.palette))\n",
    "original.im"
   ]
  },
  {
   "cell_type": "code",
   "execution_count": null,
   "metadata": {},
   "outputs": [],
   "source": [
    "orig_nnm1 = nnm(np.asarray(original.im))\n",
    "orig_nnm1"
   ]
  },
  {
   "cell_type": "code",
   "execution_count": null,
   "metadata": {},
   "outputs": [],
   "source": [
    "orig_nnm2 = nnm(np.asarray(orig_nnm1))\n",
    "orig_nnm2"
   ]
  },
  {
   "cell_type": "code",
   "execution_count": null,
   "metadata": {},
   "outputs": [],
   "source": [
    "orig_nnm3 = nnm(np.asarray(orig_nnm2))\n",
    "orig_nnm3"
   ]
  },
  {
   "cell_type": "code",
   "execution_count": null,
   "metadata": {},
   "outputs": [],
   "source": [
    "orig_nnm4 = nnm(np.asarray(orig_nnm3))\n",
    "orig_nnm4"
   ]
  },
  {
   "cell_type": "code",
   "execution_count": null,
   "metadata": {},
   "outputs": [],
   "source": [
    "orig_nnm5 = nnm(np.asarray(orig_nnm4))\n",
    "orig_nnm5"
   ]
  },
  {
   "cell_type": "code",
   "execution_count": null,
   "metadata": {},
   "outputs": [],
   "source": [
    "orig_nnm6 = nnm(np.asarray(orig_nnm5))\n",
    "orig_nnm6"
   ]
  },
  {
   "cell_type": "code",
   "execution_count": null,
   "metadata": {},
   "outputs": [],
   "source": [
    "orig_nnm7 = nnm(np.asarray(orig_nnm6))\n",
    "orig_nnm7"
   ]
  },
  {
   "cell_type": "code",
   "execution_count": null,
   "metadata": {},
   "outputs": [],
   "source": [
    "Fundus(orig_nnm1).palette.shape"
   ]
  },
  {
   "cell_type": "code",
   "execution_count": null,
   "metadata": {},
   "outputs": [],
   "source": [
    "Fundus(orig_nnm5).palette.shape"
   ]
  },
  {
   "cell_type": "code",
   "execution_count": null,
   "metadata": {},
   "outputs": [],
   "source": [
    "Fundus(orig_nnm6).palette.shape"
   ]
  },
  {
   "cell_type": "code",
   "execution_count": null,
   "metadata": {},
   "outputs": [],
   "source": [
    "Fundus(orig_nnm7).palette.shape"
   ]
  },
  {
   "cell_type": "code",
   "execution_count": null,
   "metadata": {},
   "outputs": [],
   "source": [
    "# Cluster pixels\n",
    "modified = original.cluster_pixels_torch(40)\n",
    "print(len(modified.palette))"
   ]
  },
  {
   "cell_type": "code",
   "execution_count": null,
   "metadata": {},
   "outputs": [],
   "source": [
    "# Sort palette by G value and plotting the palette for the modified image\n",
    "toplot = modified.palette[np.argsort(modified.palette[:,1])]\n",
    "plot_color_bar(toplot)\n",
    "\n",
    "# Split palette between the colors that are more greenish and those that are more red-blueish\n",
    "n = 20\n",
    "remove = toplot[n:,:]\n",
    "keep = toplot[:n,:]\n",
    "\n",
    "plot_color_bar(remove)\n",
    "plot_color_bar(keep)\n",
    "\n",
    "# Now let's sort the palette by blue values\n",
    "#print(np.argsort(np.diff(keep[:,0::2]).flatten()))\n",
    "#print(keep[:,0]/keep[:,1])\n",
    "#diff_rg = np.diff().flatten()\n",
    "#keep_blue = keep[np.argsort(np.diff(keep)[:,0])]\n",
    "#print(keep_blue)\n",
    "#plot_color_bar(keep_blue)\n",
    "#plot_color_bar(toremove)\n",
    "#plot_color_bar(tokeep[np.argsort(np.diff(tokeep[:,1:3]).flatten())])\n",
    "#plot_color_bar(tokeep[np.argsort(tokeep[:,0])])"
   ]
  },
  {
   "cell_type": "code",
   "execution_count": null,
   "metadata": {},
   "outputs": [],
   "source": [
    "modified.im"
   ]
  },
  {
   "cell_type": "code",
   "execution_count": null,
   "metadata": {},
   "outputs": [],
   "source": [
    "modified2 =  Fundus(modified.mask_torch(colors = remove, replacement=np.array([[128,128,128]])), w=original.w, h=original.h)\n",
    "modified2.im"
   ]
  },
  {
   "cell_type": "code",
   "execution_count": null,
   "metadata": {},
   "outputs": [],
   "source": [
    "#modified2.palette[np.argsort(modified2.palette, axis=1)]\n",
    "toremove = modified2.palette[np.argsort(modified2.palette[:,1])]\n",
    "plot_color_bar(toremove)"
   ]
  },
  {
   "cell_type": "code",
   "execution_count": null,
   "metadata": {},
   "outputs": [],
   "source": [
    "modified3=  Fundus(modified2.mask_torch(colors = toremove[-6:], replacement=np.array([[128,128,128]])), w=original.w, h=original.h)\n",
    "modified3.im"
   ]
  },
  {
   "cell_type": "code",
   "execution_count": null,
   "metadata": {},
   "outputs": [],
   "source": [
    "plot_color_bar(modified2.palette[np.argsort(modified2.palette[:,1])])"
   ]
  },
  {
   "cell_type": "code",
   "execution_count": null,
   "metadata": {},
   "outputs": [],
   "source": [
    "veinsubset =  Fundus(modified2.im.crop((550, 550, 600, 600)))\n",
    "print(len(veinsubset.palette))\n",
    "veinsubset.im"
   ]
  },
  {
   "cell_type": "code",
   "execution_count": null,
   "metadata": {},
   "outputs": [],
   "source": [
    "tohighlight=veinsubset.palette[np.argsort(veinsubset.palette[:,1])][:50]\n",
    "\n",
    "plot_color_bar(tohighlight)"
   ]
  },
  {
   "cell_type": "code",
   "execution_count": null,
   "metadata": {},
   "outputs": [],
   "source": [
    "a = veinsubset.mask_torch(colors = tohighlight, replacement=np.array([[0,255,0]]))\n",
    "fun = Fundus(a, w=veinsubset.w, h=veinsubset.h)"
   ]
  },
  {
   "cell_type": "code",
   "execution_count": null,
   "metadata": {},
   "outputs": [],
   "source": [
    "fun.im"
   ]
  },
  {
   "cell_type": "code",
   "execution_count": null,
   "metadata": {},
   "outputs": [],
   "source": [
    "modified3 = Fundus(modified2.mask_torch(colors = tohighlight, replacement=np.array([[0,0,255]])), w=original.w, h=original.h)\n",
    "modified4 = Fundus(modified3.mask_torch(colors = np.array([[116, 124, 132]]), replacement=np.array([[255,255,255]])), w=original.w, h=original.h)"
   ]
  },
  {
   "cell_type": "code",
   "execution_count": null,
   "metadata": {},
   "outputs": [],
   "source": [
    "modified4.im.save(\"lol.png\")"
   ]
  }
 ],
 "metadata": {
  "kernelspec": {
   "display_name": "Python 3",
   "language": "python",
   "name": "python3"
  },
  "language_info": {
   "codemirror_mode": {
    "name": "ipython",
    "version": 3
   },
   "file_extension": ".py",
   "mimetype": "text/x-python",
   "name": "python",
   "nbconvert_exporter": "python",
   "pygments_lexer": "ipython3",
   "version": "3.7.7"
  }
 },
 "nbformat": 4,
 "nbformat_minor": 4
}
