{
 "cells": [
  {
   "cell_type": "code",
   "execution_count": 2,
   "metadata": {},
   "outputs": [],
   "source": [
    "import torch"
   ]
  },
  {
   "cell_type": "code",
   "execution_count": 3,
   "metadata": {},
   "outputs": [
    {
     "ename": "AttributeError",
     "evalue": "module 'torch' has no attribute 'tranpose'",
     "output_type": "error",
     "traceback": [
      "\u001b[0;31m---------------------------------------------------------------------------\u001b[0m",
      "\u001b[0;31mAttributeError\u001b[0m                            Traceback (most recent call last)",
      "\u001b[0;32m<ipython-input-3-568c9940ed3e>\u001b[0m in \u001b[0;36m<module>\u001b[0;34m\u001b[0m\n\u001b[1;32m     21\u001b[0m \u001b[0;34m\u001b[0m\u001b[0m\n\u001b[1;32m     22\u001b[0m \u001b[0mmeaned_v\u001b[0m \u001b[0;34m=\u001b[0m \u001b[0mmean_with_min_neighbour\u001b[0m\u001b[0;34m(\u001b[0m\u001b[0mtest\u001b[0m\u001b[0;34m)\u001b[0m\u001b[0;34m.\u001b[0m\u001b[0mtype\u001b[0m\u001b[0;34m(\u001b[0m\u001b[0mtorch\u001b[0m\u001b[0;34m.\u001b[0m\u001b[0mint8\u001b[0m\u001b[0;34m)\u001b[0m\u001b[0;34m\u001b[0m\u001b[0;34m\u001b[0m\u001b[0m\n\u001b[0;32m---> 23\u001b[0;31m \u001b[0mmeaned_h\u001b[0m \u001b[0;34m=\u001b[0m \u001b[0mmean_with_min_neighbour\u001b[0m\u001b[0;34m(\u001b[0m\u001b[0mtorch\u001b[0m\u001b[0;34m.\u001b[0m\u001b[0mtranpose\u001b[0m\u001b[0;34m(\u001b[0m\u001b[0mtest\u001b[0m\u001b[0;34m,\u001b[0m \u001b[0;36m0\u001b[0m\u001b[0;34m,\u001b[0m \u001b[0;36m1\u001b[0m\u001b[0;34m)\u001b[0m\u001b[0;34m)\u001b[0m\u001b[0;34m.\u001b[0m\u001b[0mtype\u001b[0m\u001b[0;34m(\u001b[0m\u001b[0mtorch\u001b[0m\u001b[0;34m.\u001b[0m\u001b[0mint8\u001b[0m\u001b[0;34m)\u001b[0m\u001b[0;34m\u001b[0m\u001b[0;34m\u001b[0m\u001b[0m\n\u001b[0m\u001b[1;32m     24\u001b[0m \u001b[0;34m\u001b[0m\u001b[0m\n\u001b[1;32m     25\u001b[0m \u001b[0mprint\u001b[0m\u001b[0;34m(\u001b[0m\u001b[0mtest\u001b[0m\u001b[0;34m)\u001b[0m\u001b[0;34m\u001b[0m\u001b[0;34m\u001b[0m\u001b[0m\n",
      "\u001b[0;31mAttributeError\u001b[0m: module 'torch' has no attribute 'tranpose'"
     ]
    }
   ],
   "source": [
    "def mean_with_min_neighbour(x):\n",
    "    out = []\n",
    "    for i in range(len(x)):\n",
    "        if i-1 < 0:\n",
    "            out.append(torch.mean(x[i:i+2], dim=0))\n",
    "        elif i+1 < len(x):\n",
    "            frame = torch.stack([x[i-1], x[i+1]])\n",
    "            diffs = torch.stack([abs(x[i]-x[i-1]), abs(x[i]-x[i+1])])\n",
    "            index = torch.min(diffs, dim=0).indices\n",
    "            minval = torch.stack([j[idx] for j, idx in zip(frame.T, index)])\n",
    "            out.append(torch.mean(torch.stack([minval, x[i]]), dim=0))\n",
    "        else:\n",
    "            out.append(torch.mean(x[i-1:i+1], dim=0))\n",
    "            \n",
    "    out = torch.stack(out, dim=0)\n",
    "    \n",
    "    return out\n",
    "\n",
    "test = torch.tensor([[1,5,3],[7,4,6],[9,2,8]],dtype=torch.float32)\n",
    "test = test.to(\"cuda\")\n",
    "\n",
    "meaned_v = mean_with_min_neighbour(test).type(torch.int8)\n",
    "meaned_h = mean_with_min_neighbour(torch.transpose(test, 0, 1)).type(torch.int8)\n",
    "\n",
    "print(test)\n",
    "print(meaned_v)\n",
    "print(meaned_h)\n",
    "\n",
    "# Calculate difference of the means to the original values\n",
    "diff_v = test-meaned_v\n",
    "diff_h = test-meaned_h\n",
    "\n",
    "print(diff_v)\n",
    "print(diff_h)\n",
    "\n",
    "diff2cal = torch.where(abs(diff_h) > abs(diff_v), diff_v, diff_h)\n",
    "print(test - diff2cal)"
   ]
  },
  {
   "cell_type": "code",
   "execution_count": null,
   "metadata": {},
   "outputs": [],
   "source": []
  }
 ],
 "metadata": {
  "kernelspec": {
   "display_name": "Python 3",
   "language": "python",
   "name": "python3"
  },
  "language_info": {
   "codemirror_mode": {
    "name": "ipython",
    "version": 3
   },
   "file_extension": ".py",
   "mimetype": "text/x-python",
   "name": "python",
   "nbconvert_exporter": "python",
   "pygments_lexer": "ipython3",
   "version": "3.7.7"
  }
 },
 "nbformat": 4,
 "nbformat_minor": 4
}
