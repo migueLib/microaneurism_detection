{
 "cells": [
  {
   "cell_type": "code",
   "execution_count": 2,
   "metadata": {},
   "outputs": [],
   "source": [
    "import torch"
   ]
  },
  {
   "cell_type": "code",
   "execution_count": 4,
   "metadata": {},
   "outputs": [
    {
     "name": "stdout",
     "output_type": "stream",
     "text": [
      "tensor([[1., 5., 3.],\n",
      "        [7., 4., 6.],\n",
      "        [9., 2., 8.]], device='cuda:0')\n",
      "tensor([[4, 4, 4],\n",
      "        [8, 4, 7],\n",
      "        [8, 3, 7]], device='cuda:0', dtype=torch.int8)\n",
      "tensor([[3, 4, 4],\n",
      "        [5, 5, 5],\n",
      "        [5, 5, 5]], device='cuda:0', dtype=torch.int8)\n",
      "tensor([[-3.,  1., -1.],\n",
      "        [-1.,  0., -1.],\n",
      "        [ 1., -1.,  1.]], device='cuda:0')\n",
      "tensor([[-2.,  1., -1.],\n",
      "        [ 2., -1.,  1.],\n",
      "        [ 4., -3.,  3.]], device='cuda:0')\n",
      "tensor([[3., 4., 4.],\n",
      "        [8., 4., 5.],\n",
      "        [8., 3., 7.]], device='cuda:0')\n"
     ]
    }
   ],
   "source": [
    "def mean_with_min_neighbour(x):\n",
    "    out = []\n",
    "    for i in range(len(x)):\n",
    "        if i-1 < 0:\n",
    "            out.append(torch.mean(x[i:i+2], dim=0))\n",
    "        elif i+1 < len(x):\n",
    "            frame = torch.stack([x[i-1], x[i+1]])\n",
    "            diffs = torch.stack([abs(x[i]-x[i-1]), abs(x[i]-x[i+1])])\n",
    "            index = torch.min(diffs, dim=0).indices\n",
    "            minval = torch.stack([j[idx] for j, idx in zip(frame.T, index)])\n",
    "            out.append(torch.mean(torch.stack([minval, x[i]]), dim=0))\n",
    "        else:\n",
    "            out.append(torch.mean(x[i-1:i+1], dim=0))\n",
    "            \n",
    "    out = torch.stack(out, dim=0)\n",
    "    \n",
    "    return out\n",
    "\n",
    "test = torch.tensor([[1,5,3],[7,4,6],[9,2,8]],dtype=torch.float32)\n",
    "test = test.to(\"cuda\")\n",
    "\n",
    "meaned_v = mean_with_min_neighbour(test).type(torch.int8)\n",
    "meaned_h = mean_with_min_neighbour(test.T).type(torch.int8).T\n",
    "\n",
    "print(test)\n",
    "print(meaned_v)\n",
    "print(meaned_h)\n",
    "\n",
    "# Calculate difference of the means to the original values\n",
    "diff_v = test-meaned_v\n",
    "diff_h = test-meaned_h\n",
    "\n",
    "print(diff_v)\n",
    "print(diff_h)\n",
    "\n",
    "diff2cal = torch.where(abs(diff_h) > abs(diff_v), diff_v, diff_h)\n",
    "print(test - diff2cal)"
   ]
  },
  {
   "cell_type": "code",
   "execution_count": null,
   "metadata": {},
   "outputs": [],
   "source": []
  }
 ],
 "metadata": {
  "kernelspec": {
   "display_name": "Python 3",
   "language": "python",
   "name": "python3"
  },
  "language_info": {
   "codemirror_mode": {
    "name": "ipython",
    "version": 3
   },
   "file_extension": ".py",
   "mimetype": "text/x-python",
   "name": "python",
   "nbconvert_exporter": "python",
   "pygments_lexer": "ipython3",
   "version": "3.7.7"
  }
 },
 "nbformat": 4,
 "nbformat_minor": 4
}
