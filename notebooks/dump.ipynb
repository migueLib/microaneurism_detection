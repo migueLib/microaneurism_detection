{
 "cells": [
  {
   "cell_type": "code",
   "execution_count": 1,
   "metadata": {},
   "outputs": [],
   "source": [
    "class Fundus():\n",
    "    # Constructor\n",
    "    def __init__(self, initarg=False, **kwargs):\n",
    "        \n",
    "        if isinstance(initarg, str):\n",
    "            self.image = self.image_from_file(initarg)\n",
    "        \n",
    "        if isinstance(initarg, np.ndarray):\n",
    "            self.image = self.image_from_pixels(initarg, **kwargs)\n",
    "        \n",
    "        # Getting number of pixels\n",
    "        self.npixels = np.prod(self.image.size)\n",
    "        self.size = self.image.size\n",
    "        self.c = self.image.getbands()\n",
    "        self.c_size = len(self.c)\n",
    "        self.palette, self.counts = self.get_palette()\n",
    "        \n",
    "    # Constructor from file\n",
    "    def image_from_file(self, path):\n",
    "        return Image.open(path)\n",
    "    \n",
    "    # Constructor from pixels\n",
    "    def image_from_pixels(self, pixels, **kwargs):\n",
    "        arr = np.resize(pixels, (kwargs[\"w\"], kwargs[\"h\"], 3)).astype(np.uint8)\n",
    "        return Image.fromarray(arr)\n",
    "    \n",
    "    # Get numpy array for the image\n",
    "    def get_array(self):\n",
    "        return np.asanyarray(self.image)\n",
    "    \n",
    "    # Get channel numpy array \n",
    "    def get_channels_asarray(self):\n",
    "        r, g, b = self.image.split()\n",
    "        return np.asanyarray(r), np.asanyarray(g), np.asanyarray(b)\n",
    "    \n",
    "    # Get an scpecific channel as an array\n",
    "    def get_channel(self, channel):\n",
    "        return np.asanyarray(self.image.getchannel(channel))\n",
    "    \n",
    "    # Transforme the image to a list of pixels\n",
    "    def get_pixels(self):\n",
    "        return np.resize(self.get_array(), (self.npixels, self.c_size))\n",
    "    \n",
    "    # Ignore, black pixels from list of pixels\n",
    "    def ignore_black_in_channel(self):\n",
    "        R,G,B = self.get_pixels().T\n",
    "        R = np.delete(R, np.where(R == 0))\n",
    "        G = np.delete(G, np.where(G == 0))\n",
    "        B = np.delete(B, np.where(B == 0))\n",
    "        return R, G, B\n",
    "        \n",
    "    # Get a unique list of pixels amd their counts (palette)\n",
    "    def get_palette(self):\n",
    "        ps = np.sort(self.get_pixels(), axis=0)\n",
    "        return np.unique(ps, return_counts=True, axis=0)\n",
    "                         \n",
    "    # Plot color counts\n",
    "    def plot_counts(self):\n",
    "        # Configure subplots\n",
    "        f, ax = plt.subplots(1, 2, figsize=(12, 5), sharey=True)\n",
    "        sns.despine(left=True)\n",
    "                \n",
    "        # Plot\n",
    "        # TODO:  change xlabels to colors\n",
    "        sns.lineplot(data=self.counts, ax=ax[0])\n",
    "        sns.lineplot(data=np.sort(self.counts), ax=ax[1])\n",
    "        \n",
    "        # Title\n",
    "        ax[0].set_title(\"Color sorted\")\n",
    "        ax[1].set_title(\"Count sorted\")\n",
    "    \n",
    "    def color_bar(self, colors):\n",
    "        cmap = mpl.colors.ListedColormap(colors)\n",
    "        \n",
    "        # Get hex values for \n",
    "        hexcol = np.array([mpl.colors.rgb2hex(x) for x in colors])\n",
    "        \n",
    "        # Get figure\n",
    "        fig, ax = plt.subplots(1, 1, figsize=(10, 2))\n",
    "        fig.subplots_adjust(bottom=0.25)\n",
    "        \n",
    "        # Calculate bounds\n",
    "        bounds = range(cmap.N + 1)\n",
    "        norm = mpl.colors.BoundaryNorm(bounds, cmap.N)\n",
    "        \n",
    "        # Plot color bar\n",
    "        bar = mpl.colorbar.ColorbarBase(ax=ax,\n",
    "                                       cmap=cmap,\n",
    "                                       norm=norm,\n",
    "                                       boundaries=bounds,\n",
    "                                       extend=\"neither\",\n",
    "                                       ticks=None,\n",
    "                                       ticklocation=\"top\",\n",
    "                                       drawedges=False,\n",
    "                                       spacing=\"uniform\",\n",
    "                                       filled=True,\n",
    "                                       orientation=\"horizontal\")\n",
    "        bar.set_ticklabels(hexcol)\n",
    "        \n",
    "    \n",
    "    def plot_palette(self):        \n",
    "        # Transform 0-255 RGB to 0-1 RGB\n",
    "        colors = self.palette/255\n",
    "        \n",
    "        # plot color bar\n",
    "        self.color_bar(colors)\n",
    "    \n",
    "    \n",
    "    def plot_cbar(self, nc=5):        \n",
    "        # Transform 0-255 RGB to 0-1 RGB\n",
    "        colors = self.palette[np.argsort(self.counts)[::-1][0:nc]]/255\n",
    "        \n",
    "        # Plot color bar\n",
    "        self.color_bar(colors)\n",
    "    \n",
    "\n",
    "    # Plots histogram of all color chanels separately and alltogether\n",
    "    def plot_histogram(self, ignore=True):\n",
    "        # Set figure\n",
    "        sns.set(style=\"white\", palette=\"muted\", color_codes=True)\n",
    "        fig, ax = plt.subplots(2, 2, figsize=(12, 12), sharex=True)\n",
    "        sns.despine(left=True)\n",
    "        \n",
    "        # Remove black color\n",
    "        if ignore:\n",
    "            R, G, B = self.ignore_black_in_channel()\n",
    "        else:\n",
    "            R, G, B = self.get_pixels().T\n",
    "        \n",
    "        # Plot  00,01 and 10 (separate channels)\n",
    "        sns.distplot(R, color=\"r\", ax=ax[0, 0])\n",
    "        sns.distplot(G, color=\"g\", ax=ax[0, 1])\n",
    "        sns.distplot(B, color=\"b\", ax=ax[1, 0])\n",
    "               \n",
    "        # Plot the 3 distributions together\n",
    "        sns.distplot(R, color=\"r\", hist=False, kde_kws={\"shade\": True}, ax=ax[1, 1])\n",
    "        sns.distplot(G, color=\"g\", hist=False, kde_kws={\"shade\": True}, ax=ax[1, 1])\n",
    "        sns.distplot(B, color=\"b\", hist=False, kde_kws={\"shade\": True}, ax=ax[1, 1])\n",
    "\n",
    "    def plot_lines(self):\n",
    "        # Plot color distribution of oroginal image\n",
    "        fig, ax = plt.subplots(1,2, figsize=(12, 5), sharey=True)\n",
    "        sns.despine(left=True)\n",
    "        \n",
    "        # Get list of all pixels\n",
    "        pixels_sorted = np.sort(self.get_pixels(), axis=0)\n",
    "        ax[0].plot(pixels_sorted)\n",
    "        ax[0].set_title(\"All pixels\")\n",
    "\n",
    "        ax[1].plot(self.get_palette()[0])\n",
    "        ax[1].set_title(\"Unique pixels\")\n",
    "        \n",
    "    def get_summary(self):\n",
    "        df_palette = pd.DataFrame(self.palette, columns=self.c)\n",
    "        df_summary = pd.DataFrame()\n",
    "        df_summary[\"mean\"]  = df_palette.mean()\n",
    "        df_summary[\"std\"]  = df_palette.std()\n",
    "        df_summary[\"var\"]  = df_palette.var()\n",
    "        df_summary[\"max-min\"]  = df_palette.max()-df_palette.min()\n",
    "        \n",
    "        return df_summary\n",
    "    \n",
    "    def replace_pixels(self, colors2replace, replacement = [0, 0, 0]):\n",
    "        \"\"\"\n",
    "        Tales a code of a lost of color codes in RGB 0-255 format.\n",
    "        And replaces all of those pixels with a given one (default black).\n",
    "        \"\"\"\n",
    "        pixels = self.get_pixels()\n",
    "        for color in colors2replace:\n",
    "            pixels[(self.get_pixels() == color).all(axis = 1)] = replacement\n",
    "        \n",
    "        return pixels\n",
    "        "
   ]
  },
  {
   "cell_type": "code",
   "execution_count": 2,
   "metadata": {},
   "outputs": [
    {
     "ename": "NameError",
     "evalue": "name 'original' is not defined",
     "output_type": "error",
     "traceback": [
      "\u001b[0;31m---------------------------------------------------------------------------\u001b[0m",
      "\u001b[0;31mNameError\u001b[0m                                 Traceback (most recent call last)",
      "\u001b[0;32m<ipython-input-2-07aff6e9e40f>\u001b[0m in \u001b[0;36m<module>\u001b[0;34m\u001b[0m\n\u001b[1;32m      1\u001b[0m \u001b[0;31m# Get 5 more representative colors in the image\u001b[0m\u001b[0;34m\u001b[0m\u001b[0;34m\u001b[0m\u001b[0;34m\u001b[0m\u001b[0m\n\u001b[0;32m----> 2\u001b[0;31m \u001b[0moriginal\u001b[0m\u001b[0;34m.\u001b[0m\u001b[0mimage\u001b[0m\u001b[0;34m.\u001b[0m\u001b[0mgetpixel\u001b[0m\u001b[0;34m(\u001b[0m\u001b[0;34m(\u001b[0m\u001b[0;36m892\u001b[0m\u001b[0;34m,\u001b[0m \u001b[0;36m426\u001b[0m\u001b[0;34m)\u001b[0m\u001b[0;34m)\u001b[0m\u001b[0;34m\u001b[0m\u001b[0;34m\u001b[0m\u001b[0m\n\u001b[0m",
      "\u001b[0;31mNameError\u001b[0m: name 'original' is not defined"
     ]
    }
   ],
   "source": [
    "# Get 5 more representative colors in the image\n",
    "original.image.getpixel((892, 426))"
   ]
  },
  {
   "cell_type": "code",
   "execution_count": null,
   "metadata": {},
   "outputs": [],
   "source": [
    "print(original.get_channels_asarray()[0][426][892])\n",
    "print(original.get_channels_asarray()[1][426][892])\n",
    "print(original.get_channels_asarray()[2][426][892])\n",
    "\n",
    "original.get_array()[426][892]"
   ]
  },
  {
   "cell_type": "code",
   "execution_count": null,
   "metadata": {},
   "outputs": [],
   "source": [
    "colors = original.palette[np.argsort(original.counts)[::-1]][0:5]/255\n",
    "original.color_bar(colors)"
   ]
  },
  {
   "cell_type": "code",
   "execution_count": null,
   "metadata": {},
   "outputs": [],
   "source": [
    "# Get palette from the image, and sort it by color frequency\n",
    "#palette = original.palette\n",
    "#counts = original.counts\n",
    "palette_sorted = original.palette[np.argsort(original.counts)[::-1]]"
   ]
  },
  {
   "cell_type": "code",
   "execution_count": null,
   "metadata": {},
   "outputs": [],
   "source": [
    "# Remove pixels for the most common pixels (usually gray)\n",
    "print(len(palette_sorted))\n",
    "arr_new = original.replace_pixels(palette_sorted[:5], [0,0,0])"
   ]
  },
  {
   "cell_type": "code",
   "execution_count": null,
   "metadata": {},
   "outputs": [],
   "source": [
    "# Generate new figure blackening colors \n",
    "new = Fundus(arr_new, w=original.size[1], h=original.size[0])\n",
    "new.image"
   ]
  },
  {
   "cell_type": "code",
   "execution_count": null,
   "metadata": {},
   "outputs": [],
   "source": []
  },
  {
   "cell_type": "markdown",
   "metadata": {},
   "source": [
    "# Here we start modifying the image"
   ]
  },
  {
   "cell_type": "code",
   "execution_count": null,
   "metadata": {},
   "outputs": [],
   "source": [
    "# Get color palette for the new image\n",
    "new_palette, new_counts = new.get_palette()\n",
    "new_palette"
   ]
  },
  {
   "cell_type": "code",
   "execution_count": null,
   "metadata": {},
   "outputs": [],
   "source": [
    "# Get dendogram at pixel level\n",
    "plt.figure(figsize=(10, 10))  \n",
    "plt.title(\"Dendrograms\")  \n",
    "dend = shc.dendrogram(shc.linkage(new_palette, method='ward'))"
   ]
  },
  {
   "cell_type": "code",
   "execution_count": null,
   "metadata": {},
   "outputs": [],
   "source": [
    "# Merging 2 closest colors\n",
    "cluster = AgglomerativeClustering(n_clusters=len(new_palette)//2, affinity='euclidean', linkage='ward')  \n",
    "clustered = cluster.fit_predict(new_palette)\n",
    "print(\"Total number of colors before\",len(clustered))\n",
    "print(\"Total number of colors after \",len(np.unique(clustered)))"
   ]
  },
  {
   "cell_type": "code",
   "execution_count": null,
   "metadata": {},
   "outputs": [],
   "source": [
    "# Get RGB values of the colors  to merge\n",
    "clustered"
   ]
  },
  {
   "cell_type": "code",
   "execution_count": null,
   "metadata": {},
   "outputs": [],
   "source": [
    "np.unique(clustered, return_counts=True)"
   ]
  },
  {
   "cell_type": "code",
   "execution_count": null,
   "metadata": {},
   "outputs": [],
   "source": [
    "pixels = new.get_pixels()\n",
    "\n",
    "for i in range(len(np.unique(clustered))):\n",
    "    colors2replace = new_palette[clustered == i]\n",
    "    replacement = np.mean(new_palette[clustered==i], axis=0, dtype=int)\n",
    "\n",
    "    for color in colors2replace:\n",
    "        pixels[(pixels == color).all(axis = 1)] = replacement"
   ]
  },
  {
   "cell_type": "code",
   "execution_count": null,
   "metadata": {},
   "outputs": [],
   "source": [
    "# Generate new figure blackening colors \n",
    "new2 = Fundus(pixels, w=original.size[1], h=original.size[0])\n",
    "new2.image"
   ]
  },
  {
   "cell_type": "code",
   "execution_count": null,
   "metadata": {},
   "outputs": [],
   "source": [
    "new2_palette, new_counts = new2.get_palette()"
   ]
  },
  {
   "cell_type": "code",
   "execution_count": null,
   "metadata": {},
   "outputs": [],
   "source": [
    "len(new2_palette)"
   ]
  }
 ],
 "metadata": {
  "kernelspec": {
   "display_name": "Python 3",
   "language": "python",
   "name": "python3"
  },
  "language_info": {
   "codemirror_mode": {
    "name": "ipython",
    "version": 3
   },
   "file_extension": ".py",
   "mimetype": "text/x-python",
   "name": "python",
   "nbconvert_exporter": "python",
   "pygments_lexer": "ipython3",
   "version": "3.7.7"
  }
 },
 "nbformat": 4,
 "nbformat_minor": 4
}
